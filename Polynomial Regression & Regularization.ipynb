{
 "cells": [
  {
   "cell_type": "code",
   "execution_count": 1,
   "metadata": {},
   "outputs": [],
   "source": [
    "import numpy as np\n",
    "import pandas as pd\n",
    "import matplotlib.pyplot as plt\n",
    "import seaborn as sns\n",
    "from sklearn.linear_model import LinearRegression\n",
    "from sklearn.preprocessing import PolynomialFeatures\n",
    "from sklearn.metrics import mean_squared_error\n",
    "from sklearn.model_selection import train_test_split\n",
    "from sklearn.linear_model import Ridge\n",
    "from sklearn.linear_model import Lasso\n",
    "from sklearn import metrics\n"
   ]
  },
  {
   "cell_type": "code",
   "execution_count": 2,
   "metadata": {},
   "outputs": [],
   "source": [
    "df = pd.read_csv('temperature.csv')\n",
    "x = df[['Temperature-T']]\n",
    "y = df[['Thermal expansion coefficient']]"
   ]
  },
  {
   "cell_type": "code",
   "execution_count": 3,
   "metadata": {},
   "outputs": [
    {
     "name": "stdout",
     "output_type": "stream",
     "text": [
      "Optimum Order is  3\n",
      "Minimum variance is  0.0010\n",
      "Variance values:\n",
      " [0.0082, 0.0011, 0.001, 0.0013, 0.0026, 0.0246, 3.5454, 1.3203, 2.9442]\n"
     ]
    }
   ],
   "source": [
    "x_train, x_test, y_train, y_test = train_test_split(x, y, test_size = .5, random_state = 101)\n",
    "\n",
    "variance_values = []\n",
    "n = len(y_test) \n",
    "min_variance_value = 9999\n",
    "\n",
    "for m in np.arange(1, 10):\n",
    "    poly_reg = PolynomialFeatures(degree = m)\n",
    "    x_poly_train = poly_reg.fit_transform(x_train)\n",
    "    x_poly_test=poly_reg.transform(x_test)\n",
    "    \n",
    "    lin_reg_2 = LinearRegression()\n",
    "    lin_reg_2.fit(x_poly_train, y_train)\n",
    "    predictions_Poly=lin_reg_2.predict(x_poly_test)\n",
    "    \n",
    "    sr = metrics.mean_squared_error(y_test, predictions_Poly)\n",
    "    variance_value = sr / (n-m-1) \n",
    "    variance_value = round(variance_value, 4) \n",
    "    variance_values.append(variance_value) \n",
    "   \n",
    "    if min_variance_value >= variance_value:\n",
    "        min_variance_value = variance_value\n",
    "        min_deg = m\n",
    "\n",
    "print(\"Optimum Order is  %d\" % (min_deg))\n",
    "print(\"Minimum variance is  %0.4f\" % (min_variance_value))\n",
    "print(\"Variance values:\\n\", variance_values)"
   ]
  },
  {
   "cell_type": "code",
   "execution_count": 4,
   "metadata": {},
   "outputs": [
    {
     "data": {
      "image/png": "[encoded data removed]",
      "text/plain": [
       "<Figure size 432x288 with 1 Axes>"
      ]
     },
     "metadata": {},
     "output_type": "display_data"
    }
   ],
   "source": [
    "poly_reg = PolynomialFeatures(degree = min_deg)\n",
    "x_poly_train = poly_reg.fit_transform(x_train)\n",
    "x_poly_test=poly_reg.transform(x_test)\n",
    "    \n",
    "lin_reg_2 = LinearRegression()\n",
    "lin_reg_2.fit(x_poly_train, y_train)\n",
    "    \n",
    "predictions_Poly=lin_reg_2.predict(x_poly_test)\n",
    "\n",
    "plt.scatter(df['Temperature-T'],df['Thermal expansion coefficient'], color = 'red')\n",
    "plt.plot(x_train, lin_reg_2.predict(poly_reg.fit_transform(x_train)), color = 'blue')\n",
    "plt.xlabel('Temperature-T')\n",
    "plt.ylabel('Thermal expansion coefficient')\n",
    "plt.show()\n"
   ]
  },
  {
   "cell_type": "code",
   "execution_count": 5,
   "metadata": {},
   "outputs": [
    {
     "data": {
      "text/plain": [
       "0.00722674154288738"
      ]
     },
     "execution_count": 5,
     "metadata": {},
     "output_type": "execute_result"
    }
   ],
   "source": [
    "reg3=Ridge(alpha=.5)\n",
    "reg3.fit(x_poly_train, y_train)\n",
    "predictions_Ridge=reg3.predict(x_poly_test)\n",
    "sr = metrics.mean_squared_error(y_test,predictions_Ridge)\n",
    "sr"
   ]
  },
  {
   "cell_type": "code",
   "execution_count": null,
   "metadata": {},
   "outputs": [],
   "source": [
    "reg4=Lasso(alpha=0.1)\n",
    "reg4.fit(x_poly_train, y_train)\n",
    "predictions_Lasso=reg4.predict(x_poly_test)\n",
    "sr = metrics.mean_squared_error(y_test,predictions_Lasso)\n",
    "sr"
   ]
  }
 ],
 "metadata": {
  "kernelspec": {
   "display_name": "Python 3",
   "language": "python",
   "name": "python3"
  },
  "language_info": {
   "codemirror_mode": {
    "name": "ipython",
    "version": 3
   },
   "file_extension": ".py",
   "mimetype": "text/x-python",
   "name": "python",
   "nbconvert_exporter": "python",
   "pygments_lexer": "ipython3",
   "version": "3.6.5"
  }
 },
 "nbformat": 4,
 "nbformat_minor": 2
}
