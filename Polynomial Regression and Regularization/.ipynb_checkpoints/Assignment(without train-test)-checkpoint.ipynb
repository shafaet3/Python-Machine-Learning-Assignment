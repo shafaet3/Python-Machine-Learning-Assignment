{
 "cells": [
  {
   "cell_type": "code",
   "execution_count": 2,
   "metadata": {},
   "outputs": [],
   "source": [
    "import numpy as np\n",
    "import pandas as pd\n",
    "import matplotlib.pyplot as plt\n",
    "%matplotlib inline\n",
    "import seaborn as sns\n",
    "from sklearn.linear_model import LinearRegression\n",
    "from sklearn.preprocessing import PolynomialFeatures\n",
    "from sklearn.metrics import mean_squared_error\n",
    "from sklearn.linear_model import Ridge\n",
    "from sklearn.linear_model import Lasso"
   ]
  },
  {
   "cell_type": "code",
   "execution_count": 3,
   "metadata": {},
   "outputs": [],
   "source": [
    "# read the dataset\n",
    "df = pd.read_csv('temperature.csv')\n",
    "x = df[['Temperature-T']]\n",
    "y = df[['Thermal expansion coefficient']]\n"
   ]
  },
  {
   "cell_type": "code",
   "execution_count": 4,
   "metadata": {},
   "outputs": [
    {
     "name": "stdout",
     "output_type": "stream",
     "text": [
      "Optimum Order is  1\n",
      "Minimum variance is  622.6326\n",
      "Variance values:\n",
      " [622.6325524136338, 626.7430330143204, 638.6096923335116, 664.4038492669638, 659.7845200664743, 703.6106274664796, 744.327687151813, 844.3849343974694, 983.9936433852964]\n"
     ]
    }
   ],
   "source": [
    "#(1)Find the optimum order of polynomial using polynomial regression model\n",
    "\n",
    "variance_values = []\n",
    "degrees = np.arange(1, 10)\n",
    "n = len(y) # n is the number of data points\n",
    "min_variance_value = 9999\n",
    "\n",
    "for m in degrees:\n",
    "    poly_reg = PolynomialFeatures(degree = m)\n",
    "    x_poly = poly_reg.fit_transform(x)\n",
    "    poly_reg.fit(x_poly, y)\n",
    "    lin_reg_2 = LinearRegression()\n",
    "    lin_reg_2.fit(x_poly, y)\n",
    "    predictions_Poly = lin_reg_2.predict(x_poly)\n",
    "    \n",
    "    sr = mean_squared_error(y, predictions_Poly) #sr is sum of the squares of the residuals\n",
    "    variance_value = sr / (n-m-1) #n is the number of data points and m is the degree of polynomial\n",
    "    #variance_value = round(variance_value, 4) #take 4 digit\n",
    "    variance_values.append(variance_value) #put all variance_values in array\n",
    "    if min_variance_value >= variance_value:\n",
    "        min_variance_value = variance_value\n",
    "        min_deg = m\n",
    "\n",
    "print(\"Optimum Order is  %d\" % (min_deg))\n",
    "print(\"Minimum variance is  %0.4f\" % (min_variance_value))\n",
    "print(\"Variance values:\\n\", variance_values)\n"
   ]
  },
  {
   "cell_type": "code",
   "execution_count": 5,
   "metadata": {},
   "outputs": [
    {
     "data": {
      "image/png": "[encoded data removed]",
      "text/plain": [
       "<Figure size 432x288 with 1 Axes>"
      ]
     },
     "metadata": {},
     "output_type": "display_data"
    }
   ],
   "source": [
    "#(3)Show the fitting graphs for number 2\n",
    "\n",
    "poly_reg = PolynomialFeatures(degree = 2)\n",
    "x_poly = poly_reg.fit_transform(x)\n",
    "poly_reg.fit(x_poly, y)\n",
    "lin_reg_2 = LinearRegression()\n",
    "lin_reg_2.fit(x_poly, y)\n",
    "    \n",
    "    \n",
    "plt.scatter(x, y, color = 'red')\n",
    "plt.plot(x, lin_reg_2.predict(poly_reg.fit_transform(x)), color = 'blue')\n",
    "plt.xlabel('Temperature-T')\n",
    "plt.ylabel('Thermal expansion coefficient')\n",
    "plt.show()"
   ]
  },
  {
   "cell_type": "code",
   "execution_count": 7,
   "metadata": {},
   "outputs": [
    {
     "data": {
      "text/plain": [
       "12452.651048272906"
      ]
     },
     "execution_count": 7,
     "metadata": {},
     "output_type": "execute_result"
    }
   ],
   "source": [
    "#Ridge Regularization\n",
    "\n",
    "reg3=Ridge(alpha=.5)\n",
    "reg3.fit(x,y)\n",
    "predictions_Ridge=reg3.predict(x)\n",
    "sr = mean_squared_error(y,predictions_Ridge)\n",
    "sr"
   ]
  },
  {
   "cell_type": "code",
   "execution_count": 8,
   "metadata": {},
   "outputs": [
    {
     "data": {
      "text/plain": [
       "12452.651110384475"
      ]
     },
     "execution_count": 8,
     "metadata": {},
     "output_type": "execute_result"
    }
   ],
   "source": [
    "#Lasso Regularization\n",
    "\n",
    "reg4=Lasso()\n",
    "reg4.fit(x,y)\n",
    "predictions_Lasso=reg4.predict(x)\n",
    "sr = mean_squared_error(y,predictions_Lasso)\n",
    "sr"
   ]
  },
  {
   "cell_type": "code",
   "execution_count": null,
   "metadata": {},
   "outputs": [],
   "source": []
  }
 ],
 "metadata": {
  "kernelspec": {
   "display_name": "Python 3",
   "language": "python",
   "name": "python3"
  },
  "language_info": {
   "codemirror_mode": {
    "name": "ipython",
    "version": 3
   },
   "file_extension": ".py",
   "mimetype": "text/x-python",
   "name": "python",
   "nbconvert_exporter": "python",
   "pygments_lexer": "ipython3",
   "version": "3.6.5"
  }
 },
 "nbformat": 4,
 "nbformat_minor": 2
}
