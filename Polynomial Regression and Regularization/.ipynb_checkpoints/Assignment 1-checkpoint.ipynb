{
 "cells": [
  {
   "cell_type": "code",
   "execution_count": 1,
   "metadata": {},
   "outputs": [],
   "source": [
    "import numpy as np\n",
    "import pandas as pd\n",
    "import matplotlib.pyplot as plt\n",
    "#%matplotlib inline\n",
    "import seaborn as sns\n",
    "from sklearn.linear_model import LinearRegression\n",
    "from sklearn.preprocessing import PolynomialFeatures\n",
    "from sklearn.metrics import mean_squared_error\n",
    "from sklearn.model_selection import train_test_split\n",
    "from sklearn.linear_model import Ridge\n",
    "from sklearn.linear_model import Lasso\n",
    "from sklearn import metrics\n"
   ]
  },
  {
   "cell_type": "code",
   "execution_count": 2,
   "metadata": {},
   "outputs": [],
   "source": [
    "# read the dataset\n",
    "df = pd.read_csv('temperature.csv')\n",
    "x = df[['Temperature-T']]\n",
    "y = df[['Thermal expansion coefficient']]\n"
   ]
  },
  {
   "cell_type": "code",
   "execution_count": 6,
   "metadata": {},
   "outputs": [
    {
     "name": "stdout",
     "output_type": "stream",
     "text": [
      "sr value  706.0088\n",
      "sr value  2088.8942\n",
      "sr value  2658.5127\n",
      "sr value  4428.4504\n",
      "sr value  7743.4318\n",
      "sr value  10919.9793\n",
      "sr value  8237.6659\n",
      "sr value  56846.7052\n",
      "sr value  58974.9689\n",
      "Optimum Order is  8\n",
      "Minimum variance is  -14211.6763\n",
      "Variance values:\n",
      " [235.33628064903215, 1044.4470867439268, 2658.512667294393, inf, -7743.431811014685, -5459.989651292637, -2745.8886456285804, -14211.676297277274, -11794.993786144498]\n"
     ]
    },
    {
     "name": "stderr",
     "output_type": "stream",
     "text": [
      "C:\\Users\\Dr.Zakir\\Anaconda3\\lib\\site-packages\\ipykernel_launcher.py:21: RuntimeWarning: divide by zero encountered in double_scalars\n"
     ]
    },
    {
     "data": {
      "text/plain": [
       "5"
      ]
     },
     "execution_count": 6,
     "metadata": {},
     "output_type": "execute_result"
    }
   ],
   "source": [
    "#(1)Find the optimum order of polynomial using polynomial regression model\n",
    "\n",
    "x_train, x_test, y_train, y_test = train_test_split(x, y, test_size = .2, random_state = 101)\n",
    "\n",
    "variance_values = []\n",
    "degrees = np.arange(1, 10)\n",
    "n = len(y_test) # n is the number of data points\n",
    "min_variance_value = 9999\n",
    "\n",
    "for m in degrees:\n",
    "    poly_reg = PolynomialFeatures(degree = m)\n",
    "    x_poly_train = poly_reg.fit_transform(x_train)\n",
    "    x_poly_test=poly_reg.transform(x_test)\n",
    "    \n",
    "    lin_reg_2 = LinearRegression()\n",
    "    lin_reg_2.fit(x_poly_train, y_train)\n",
    "    predictions_Poly=lin_reg_2.predict(x_poly_test)\n",
    "    \n",
    "    sr = metrics.mean_squared_error(y_test, predictions_Poly) #sr is sum of the squares of the residuals\n",
    "    print(\"sr value  %0.4f\" % (sr))\n",
    "    variance_value = sr / (n-m-1) #n is the number of data points and m is the degree of polynomial\n",
    "    #variance_value = round(variance_value, 4) #take 4 digit\n",
    "    variance_values.append(variance_value) #put all variance_values in array\n",
    "   \n",
    "    if min_variance_value >= variance_value:\n",
    "        min_variance_value = variance_value\n",
    "        min_deg = m\n",
    "\n",
    "print(\"Optimum Order is  %d\" % (min_deg))\n",
    "print(\"Minimum variance is  %0.4f\" % (min_variance_value))\n",
    "print(\"Variance values:\\n\", variance_values)\n",
    "len(predictions_Poly)"
   ]
  },
  {
   "cell_type": "code",
   "execution_count": 7,
   "metadata": {},
   "outputs": [
    {
     "data": {
      "image/png": "[encoded data removed]",
      "text/plain": [
       "<Figure size 432x288 with 1 Axes>"
      ]
     },
     "metadata": {},
     "output_type": "display_data"
    }
   ],
   "source": [
    "#(3)Show the fitting graphs for optimum order\n",
    "\n",
    "poly_reg = PolynomialFeatures(degree = min_deg)\n",
    "x_poly_train = poly_reg.fit_transform(x_train)\n",
    "x_poly_test=poly_reg.transform(x_test)\n",
    "    \n",
    "lin_reg_2 = LinearRegression()\n",
    "lin_reg_2.fit(x_poly_train, y_train)\n",
    "    \n",
    "predictions_Poly=lin_reg_2.predict(x_poly_test)\n",
    "    \n",
    "plt.scatter(x, y, color = 'red')\n",
    "plt.plot(x_train*100, lin_reg_2.predict(poly_reg.fit_transform(x_train))*100, color = 'blue')\n",
    "plt.xlabel('Temperature-T')\n",
    "plt.ylabel('Thermal expansion coefficient')\n",
    "plt.show()"
   ]
  },
  {
   "cell_type": "code",
   "execution_count": 5,
   "metadata": {},
   "outputs": [
    {
     "data": {
      "text/plain": [
       "706.0093511627412"
      ]
     },
     "execution_count": 5,
     "metadata": {},
     "output_type": "execute_result"
    }
   ],
   "source": [
    "#Ridge Regularization\n",
    "\n",
    "reg3=Ridge(alpha=.5)\n",
    "reg3.fit(x_train,y_train)\n",
    "predictions_Ridge=reg3.predict(x_test)\n",
    "sr = mean_squared_error(y_test,predictions_Ridge)\n",
    "sr"
   ]
  },
  {
   "cell_type": "code",
   "execution_count": 6,
   "metadata": {},
   "outputs": [
    {
     "data": {
      "text/plain": [
       "706.2779054183221"
      ]
     },
     "execution_count": 6,
     "metadata": {},
     "output_type": "execute_result"
    }
   ],
   "source": [
    "#Lasso Regularization\n",
    "\n",
    "reg4=Lasso()\n",
    "reg4.fit(x_train,y_train)\n",
    "predictions_Lasso=reg4.predict(x_test)\n",
    "sr = mean_squared_error(y_test,predictions_Lasso)\n",
    "sr"
   ]
  },
  {
   "cell_type": "code",
   "execution_count": null,
   "metadata": {},
   "outputs": [],
   "source": []
  },
  {
   "cell_type": "code",
   "execution_count": null,
   "metadata": {},
   "outputs": [],
   "source": []
  },
  {
   "cell_type": "code",
   "execution_count": null,
   "metadata": {},
   "outputs": [],
   "source": []
  }
 ],
 "metadata": {
  "kernelspec": {
   "display_name": "Python 3",
   "language": "python",
   "name": "python3"
  },
  "language_info": {
   "codemirror_mode": {
    "name": "ipython",
    "version": 3
   },
   "file_extension": ".py",
   "mimetype": "text/x-python",
   "name": "python",
   "nbconvert_exporter": "python",
   "pygments_lexer": "ipython3",
   "version": "3.6.5"
  }
 },
 "nbformat": 4,
 "nbformat_minor": 2
}
